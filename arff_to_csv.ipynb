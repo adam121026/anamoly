{
 "cells": [
  {
   "cell_type": "code",
   "execution_count": 1,
   "metadata": {},
   "outputs": [],
   "source": [
    "import pandas as pd\n",
    "from scipy.io import arff\n"
   ]
  },
  {
   "cell_type": "code",
   "execution_count": 2,
   "metadata": {},
   "outputs": [],
   "source": [
    "arff_file1 = arff.loadarff('./bank.arff')\n",
    "df1 = pd.DataFrame(arff_file1[0])"
   ]
  },
  {
   "cell_type": "code",
   "execution_count": 2,
   "metadata": {},
   "outputs": [],
   "source": [
    "arff_file = arff.loadarff('./census.arff')\n",
    "df = pd.DataFrame(arff_file[0])"
   ]
  },
  {
   "cell_type": "code",
   "execution_count": 13,
   "metadata": {},
   "outputs": [
    {
     "name": "stdout",
     "output_type": "stream",
     "text": [
      "Index(['att2', 'att3', 'att4', 'att5', 'att7', 'att8', 'att9', 'att10',\n",
      "       'att11', 'att12', 'att13', 'att14', 'att15', 'att16', 'att20', 'att21',\n",
      "       'att22', 'att23', 'att24', 'att26', 'att27', 'att28', 'att29', 'att30',\n",
      "       'att32', 'att33', 'att34', 'att35', 'att36', 'att37', 'att38', 'att39',\n",
      "       'att41', 'class'],\n",
      "      dtype='object')\n"
     ]
    }
   ],
   "source": [
    "print(df.columns)"
   ]
  },
  {
   "cell_type": "code",
   "execution_count": 5,
   "metadata": {},
   "outputs": [
    {
     "name": "stderr",
     "output_type": "stream",
     "text": [
      "/tmp/ipykernel_132204/152231209.py:4: FutureWarning: DataFrame.applymap has been deprecated. Use DataFrame.map instead.\n",
      "  df_cleaned = df.applymap(lambda x: x.decode('utf-8') if isinstance(x, bytes) else x)\n"
     ]
    },
    {
     "name": "stdout",
     "output_type": "stream",
     "text": [
      "   class  att10_Adm-support-including-clerical  att10_Armed-Forces  \\\n",
      "0      0                                   0.0                 0.0   \n",
      "1      0                                   0.0                 0.0   \n",
      "2      0                                   0.0                 0.0   \n",
      "3      0                                   0.0                 0.0   \n",
      "4      0                                   0.0                 0.0   \n",
      "\n",
      "   att10_Executive-admin-and-managerial  att10_Farming-forestry-and-fishing  \\\n",
      "0                                   0.0                                 0.0   \n",
      "1                                   0.0                                 0.0   \n",
      "2                                   0.0                                 0.0   \n",
      "3                                   0.0                                 0.0   \n",
      "4                                   0.0                                 0.0   \n",
      "\n",
      "   att10_Handlers-equip-cleaners-etc  \\\n",
      "0                                0.0   \n",
      "1                                0.0   \n",
      "2                                0.0   \n",
      "3                                0.0   \n",
      "4                                0.0   \n",
      "\n",
      "   att10_Machine-operators-assmblrs-&-inspctrs  att10_Not-in-universe  \\\n",
      "0                                          0.0                    1.0   \n",
      "1                                          0.0                    0.0   \n",
      "2                                          0.0                    1.0   \n",
      "3                                          0.0                    1.0   \n",
      "4                                          0.0                    1.0   \n",
      "\n",
      "   att10_Other-service  att10_Precision-production-craft-&-repair  ...  \\\n",
      "0                  0.0                                        0.0  ...   \n",
      "1                  1.0                                        0.0  ...   \n",
      "2                  0.0                                        0.0  ...   \n",
      "3                  0.0                                        0.0  ...   \n",
      "4                  0.0                                        0.0  ...   \n",
      "\n",
      "   att9_Not-in-universe-or-children  att9_Other-professional-services  \\\n",
      "0                               1.0                               0.0   \n",
      "1                               0.0                               0.0   \n",
      "2                               1.0                               0.0   \n",
      "3                               1.0                               0.0   \n",
      "4                               1.0                               0.0   \n",
      "\n",
      "   att9_Personal-services-except-private-HH  att9_Private-household-services  \\\n",
      "0                                       0.0                              0.0   \n",
      "1                                       0.0                              0.0   \n",
      "2                                       0.0                              0.0   \n",
      "3                                       0.0                              0.0   \n",
      "4                                       0.0                              0.0   \n",
      "\n",
      "   att9_Public-administration  att9_Retail-trade  att9_Social-services  \\\n",
      "0                         0.0                0.0                   0.0   \n",
      "1                         0.0                0.0                   0.0   \n",
      "2                         0.0                0.0                   0.0   \n",
      "3                         0.0                0.0                   0.0   \n",
      "4                         0.0                0.0                   0.0   \n",
      "\n",
      "   att9_Transportation  att9_Utilities-and-sanitary-services  \\\n",
      "0                  0.0                                   0.0   \n",
      "1                  1.0                                   0.0   \n",
      "2                  0.0                                   0.0   \n",
      "3                  0.0                                   0.0   \n",
      "4                  0.0                                   0.0   \n",
      "\n",
      "   att9_Wholesale-trade  \n",
      "0                   0.0  \n",
      "1                   0.0  \n",
      "2                   0.0  \n",
      "3                   0.0  \n",
      "4                   0.0  \n",
      "\n",
      "[5 rows x 504 columns]\n"
     ]
    }
   ],
   "source": [
    "from sklearn.preprocessing import OneHotEncoder\n",
    "import numpy as np\n",
    "\n",
    "df_cleaned = df.applymap(lambda x: x.decode('utf-8') if isinstance(x, bytes) else x)\n",
    "\n",
    "# Replace '_' with '=' in the column names\n",
    "df_cleaned.columns = df_cleaned.columns.str.replace('_', '=')\n",
    "\n",
    "# Map the 'class' column to 0 and 1\n",
    "df_cleaned['class'] = df_cleaned['class'].apply(lambda x: 0 if x == '--50000.' else 1)\n",
    "\n",
    "# Identify categorical columns excluding 'class'\n",
    "categorical_columns = df_cleaned.select_dtypes(include=['object']).columns.difference(['class'])\n",
    "\n",
    "# Initialize OneHotEncoder\n",
    "encoder = OneHotEncoder(sparse_output=False, handle_unknown='ignore')\n",
    "\n",
    "# Fit and transform the data\n",
    "encoded_data = encoder.fit_transform(df_cleaned[categorical_columns])\n",
    "\n",
    "# Create a DataFrame with the encoded data\n",
    "encoded_df = pd.DataFrame(encoded_data, columns=encoder.get_feature_names_out(categorical_columns))\n",
    "\n",
    "# Drop the original categorical columns and concatenate the encoded columns with the 'class' column\n",
    "df_encoded = df_cleaned.drop(columns=categorical_columns).reset_index(drop=True)\n",
    "df_encoded = pd.concat([df_encoded, encoded_df], axis=1)\n",
    "\n",
    "print(df_encoded.head())"
   ]
  },
  {
   "cell_type": "code",
   "execution_count": 7,
   "metadata": {
    "vscode": {
     "languageId": "ruby"
    }
   },
   "outputs": [
    {
     "data": {
      "text/plain": [
       "att9_Wholesale-trade\n",
       "0.0    985\n",
       "1.0     15\n",
       "Name: count, dtype: int64"
      ]
     },
     "execution_count": 7,
     "metadata": {},
     "output_type": "execute_result"
    }
   ],
   "source": [
    "# Remove the 'b' prefix and decode bytes to strings\n",
    "df_encoded.iloc[:1000, -1].value_counts()"
   ]
  },
  {
   "cell_type": "code",
   "execution_count": 8,
   "metadata": {},
   "outputs": [
    {
     "name": "stdout",
     "output_type": "stream",
     "text": [
      "Index(['class', 'att10=Adm-support-including-clerical', 'att10=Armed-Forces',\n",
      "       'att10=Executive-admin-and-managerial',\n",
      "       'att10=Farming-forestry-and-fishing',\n",
      "       'att10=Handlers-equip-cleaners-etc',\n",
      "       'att10=Machine-operators-assmblrs-&-inspctrs', 'att10=Not-in-universe',\n",
      "       'att10=Other-service', 'att10=Precision-production-craft-&-repair',\n",
      "       ...\n",
      "       'att9=Not-in-universe-or-children', 'att9=Other-professional-services',\n",
      "       'att9=Personal-services-except-private-HH',\n",
      "       'att9=Private-household-services', 'att9=Public-administration',\n",
      "       'att9=Retail-trade', 'att9=Social-services', 'att9=Transportation',\n",
      "       'att9=Utilities-and-sanitary-services', 'att9=Wholesale-trade'],\n",
      "      dtype='object', length=504)\n"
     ]
    }
   ],
   "source": [
    "df_encoded.columns = df_encoded.columns.str.replace('_', '=')\n",
    "print(df_encoded.columns)"
   ]
  },
  {
   "cell_type": "code",
   "execution_count": 9,
   "metadata": {},
   "outputs": [],
   "source": [
    "\n",
    "df_encoded.to_csv('census_encoded.csv', index=False)"
   ]
  }
 ],
 "metadata": {
  "kernelspec": {
   "display_name": ".venv",
   "language": "python",
   "name": "python3"
  },
  "language_info": {
   "codemirror_mode": {
    "name": "ipython",
    "version": 3
   },
   "file_extension": ".py",
   "mimetype": "text/x-python",
   "name": "python",
   "nbconvert_exporter": "python",
   "pygments_lexer": "ipython3",
   "version": "3.12.3"
  }
 },
 "nbformat": 4,
 "nbformat_minor": 2
}
