{
 "cells": [
  {
   "cell_type": "code",
   "execution_count": null,
   "metadata": {},
   "outputs": [],
   "source": [
    "import pandas as pd\n",
    "import matplotlib.pyplot as plt\n",
    "import seaborn as sns\n",
    "\n",
    "# Load the dataset\n",
    "df = pd.read_csv('bank-additional-full_normalised.csv')\n",
    "\n",
    "# Combine columns back into their original categorical columns\n",
    "def combine_columns(df, category):\n",
    "    category_columns = [col for col in df.columns if col.startswith(f'{category}=')]\n",
    "    df[category] = df[category_columns].idxmax(axis=1).apply(lambda x: x.split('=')[1])\n",
    "    df.drop(columns=category_columns, inplace=True)\n",
    "\n",
    "# Combine job columns\n",
    "combine_columns(df, 'job')\n",
    "\n",
    "# Combine marital columns\n",
    "combine_columns(df, 'marital')\n",
    "\n",
    "# Combine education columns\n",
    "combine_columns(df, 'education')\n",
    "\n",
    "# Combine default columns\n",
    "combine_columns(df, 'default')\n",
    "\n",
    "# Combine housing columns\n",
    "combine_columns(df, 'housing')\n",
    "\n",
    "# Combine loan columns\n",
    "combine_columns(df, 'loan')\n",
    "\n",
    "# Combine contact columns\n",
    "combine_columns(df, 'contact')\n",
    "\n",
    "# Combine month columns\n",
    "combine_columns(df, 'month')\n",
    "\n",
    "# Combine day_of_week columns\n",
    "combine_columns(df, 'day_of_week')\n",
    "\n",
    "# Combine poutcome columns\n",
    "combine_columns(df, 'poutcome')\n",
    "# Extract column name from data and plot count of anomaly for each category value\n",
    "for feature in categorical_features:\n",
    "    plt.figure(figsize=(10, 6))\n",
    "    sns.countplot(x=feature, hue='class', data=df)\n",
    "    plt.title(f'Count of Anomaly for Each {feature} Value')\n",
    "    plt.show()"
   ]
  }
 ],
 "metadata": {
  "kernelspec": {
   "display_name": ".venv",
   "language": "python",
   "name": "python3"
  },
  "language_info": {
   "codemirror_mode": {
    "name": "ipython",
    "version": 3
   },
   "file_extension": ".py",
   "mimetype": "text/x-python",
   "name": "python",
   "nbconvert_exporter": "python",
   "pygments_lexer": "ipython3",
   "version": "3.12.3"
  }
 },
 "nbformat": 4,
 "nbformat_minor": 2
}
